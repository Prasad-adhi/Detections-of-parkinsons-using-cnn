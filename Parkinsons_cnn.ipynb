{
 "cells": [
  {
   "cell_type": "code",
   "execution_count": 1,
   "metadata": {},
   "outputs": [
    {
     "name": "stderr",
     "output_type": "stream",
     "text": [
      "C:\\Users\\user\\anaconda3\\lib\\site-packages\\tensorflow\\python\\framework\\dtypes.py:516: FutureWarning: Passing (type, 1) or '1type' as a synonym of type is deprecated; in a future version of numpy, it will be understood as (type, (1,)) / '(1,)type'.\n",
      "  _np_qint8 = np.dtype([(\"qint8\", np.int8, 1)])\n",
      "C:\\Users\\user\\anaconda3\\lib\\site-packages\\tensorflow\\python\\framework\\dtypes.py:517: FutureWarning: Passing (type, 1) or '1type' as a synonym of type is deprecated; in a future version of numpy, it will be understood as (type, (1,)) / '(1,)type'.\n",
      "  _np_quint8 = np.dtype([(\"quint8\", np.uint8, 1)])\n",
      "C:\\Users\\user\\anaconda3\\lib\\site-packages\\tensorflow\\python\\framework\\dtypes.py:518: FutureWarning: Passing (type, 1) or '1type' as a synonym of type is deprecated; in a future version of numpy, it will be understood as (type, (1,)) / '(1,)type'.\n",
      "  _np_qint16 = np.dtype([(\"qint16\", np.int16, 1)])\n",
      "C:\\Users\\user\\anaconda3\\lib\\site-packages\\tensorflow\\python\\framework\\dtypes.py:519: FutureWarning: Passing (type, 1) or '1type' as a synonym of type is deprecated; in a future version of numpy, it will be understood as (type, (1,)) / '(1,)type'.\n",
      "  _np_quint16 = np.dtype([(\"quint16\", np.uint16, 1)])\n",
      "C:\\Users\\user\\anaconda3\\lib\\site-packages\\tensorflow\\python\\framework\\dtypes.py:520: FutureWarning: Passing (type, 1) or '1type' as a synonym of type is deprecated; in a future version of numpy, it will be understood as (type, (1,)) / '(1,)type'.\n",
      "  _np_qint32 = np.dtype([(\"qint32\", np.int32, 1)])\n",
      "C:\\Users\\user\\anaconda3\\lib\\site-packages\\tensorflow\\python\\framework\\dtypes.py:525: FutureWarning: Passing (type, 1) or '1type' as a synonym of type is deprecated; in a future version of numpy, it will be understood as (type, (1,)) / '(1,)type'.\n",
      "  np_resource = np.dtype([(\"resource\", np.ubyte, 1)])\n",
      "C:\\Users\\user\\anaconda3\\lib\\site-packages\\tensorboard\\compat\\tensorflow_stub\\dtypes.py:541: FutureWarning: Passing (type, 1) or '1type' as a synonym of type is deprecated; in a future version of numpy, it will be understood as (type, (1,)) / '(1,)type'.\n",
      "  _np_qint8 = np.dtype([(\"qint8\", np.int8, 1)])\n",
      "C:\\Users\\user\\anaconda3\\lib\\site-packages\\tensorboard\\compat\\tensorflow_stub\\dtypes.py:542: FutureWarning: Passing (type, 1) or '1type' as a synonym of type is deprecated; in a future version of numpy, it will be understood as (type, (1,)) / '(1,)type'.\n",
      "  _np_quint8 = np.dtype([(\"quint8\", np.uint8, 1)])\n",
      "C:\\Users\\user\\anaconda3\\lib\\site-packages\\tensorboard\\compat\\tensorflow_stub\\dtypes.py:543: FutureWarning: Passing (type, 1) or '1type' as a synonym of type is deprecated; in a future version of numpy, it will be understood as (type, (1,)) / '(1,)type'.\n",
      "  _np_qint16 = np.dtype([(\"qint16\", np.int16, 1)])\n",
      "C:\\Users\\user\\anaconda3\\lib\\site-packages\\tensorboard\\compat\\tensorflow_stub\\dtypes.py:544: FutureWarning: Passing (type, 1) or '1type' as a synonym of type is deprecated; in a future version of numpy, it will be understood as (type, (1,)) / '(1,)type'.\n",
      "  _np_quint16 = np.dtype([(\"quint16\", np.uint16, 1)])\n",
      "C:\\Users\\user\\anaconda3\\lib\\site-packages\\tensorboard\\compat\\tensorflow_stub\\dtypes.py:545: FutureWarning: Passing (type, 1) or '1type' as a synonym of type is deprecated; in a future version of numpy, it will be understood as (type, (1,)) / '(1,)type'.\n",
      "  _np_qint32 = np.dtype([(\"qint32\", np.int32, 1)])\n",
      "C:\\Users\\user\\anaconda3\\lib\\site-packages\\tensorboard\\compat\\tensorflow_stub\\dtypes.py:550: FutureWarning: Passing (type, 1) or '1type' as a synonym of type is deprecated; in a future version of numpy, it will be understood as (type, (1,)) / '(1,)type'.\n",
      "  np_resource = np.dtype([(\"resource\", np.ubyte, 1)])\n"
     ]
    }
   ],
   "source": [
    "import numpy as np\n",
    "import pandas as pd\n",
    "from pandas import DataFrame\n",
    "from sklearn.preprocessing import MinMaxScaler\n",
    "from sklearn.model_selection import train_test_split\n",
    "from sklearn.metrics import accuracy_score\n",
    "import tensorflow\n",
    "from tensorflow.keras.datasets import mnist\n",
    "from tensorflow.keras.models import Sequential\n",
    "from tensorflow.keras.layers import Dense\n",
    "from tensorflow.keras.optimizers import RMSprop"
   ]
  },
  {
   "cell_type": "code",
   "execution_count": 2,
   "metadata": {},
   "outputs": [
    {
     "data": {
      "text/plain": [
       "(195, 24)"
      ]
     },
     "execution_count": 2,
     "metadata": {},
     "output_type": "execute_result"
    }
   ],
   "source": [
    "df=pd.read_csv('D:\\Prasad\\detection of parkinsons\\parkinsons.data')\n",
    "df.head()\n",
    "df.shape"
   ]
  },
  {
   "cell_type": "code",
   "execution_count": 3,
   "metadata": {},
   "outputs": [
    {
     "data": {
      "text/plain": [
       "22"
      ]
     },
     "execution_count": 3,
     "metadata": {},
     "output_type": "execute_result"
    }
   ],
   "source": [
    "features=df.loc[:,df.columns!='status'].values[:,1:]\n",
    "labels=df.loc[:,'status'].values\n",
    "labels\n",
    "len(features[0])"
   ]
  },
  {
   "cell_type": "code",
   "execution_count": 4,
   "metadata": {},
   "outputs": [
    {
     "data": {
      "text/plain": [
       "(195, 22)"
      ]
     },
     "execution_count": 4,
     "metadata": {},
     "output_type": "execute_result"
    }
   ],
   "source": [
    "scaler=MinMaxScaler((-1,1))\n",
    "x=scaler.fit_transform(features)\n",
    "y=labels\n",
    "x.shape"
   ]
  },
  {
   "cell_type": "code",
   "execution_count": 5,
   "metadata": {},
   "outputs": [],
   "source": [
    "x_train,x_test,y_train,y_test=train_test_split(x, y, test_size=0.2, random_state=7)"
   ]
  },
  {
   "cell_type": "code",
   "execution_count": 6,
   "metadata": {},
   "outputs": [
    {
     "name": "stdout",
     "output_type": "stream",
     "text": [
      "WARNING:tensorflow:From C:\\Users\\user\\anaconda3\\lib\\site-packages\\tensorflow\\python\\ops\\init_ops.py:1251: calling VarianceScaling.__init__ (from tensorflow.python.ops.init_ops) with dtype is deprecated and will be removed in a future version.\n",
      "Instructions for updating:\n",
      "Call initializer instance with the dtype argument instead of passing it to the constructor\n"
     ]
    }
   ],
   "source": [
    "model = Sequential([\n",
    "    Dense(128, activation='relu', input_shape=(22,)),\n",
    "    Dense(128, activation='relu'),\n",
    "    Dense(64, activation='relu'),\n",
    "    Dense(32, activation='relu'),\n",
    "    Dense(1, activation='sigmoid')])"
   ]
  },
  {
   "cell_type": "code",
   "execution_count": 7,
   "metadata": {},
   "outputs": [
    {
     "name": "stdout",
     "output_type": "stream",
     "text": [
      "WARNING:tensorflow:From C:\\Users\\user\\anaconda3\\lib\\site-packages\\tensorflow\\python\\ops\\nn_impl.py:180: add_dispatch_support.<locals>.wrapper (from tensorflow.python.ops.array_ops) is deprecated and will be removed in a future version.\n",
      "Instructions for updating:\n",
      "Use tf.where in 2.0, which has the same broadcast rule as np.where\n"
     ]
    }
   ],
   "source": [
    "model.compile(loss='binary_crossentropy',\n",
    "              optimizer='adam',\n",
    "              metrics=['accuracy'])"
   ]
  },
  {
   "cell_type": "code",
   "execution_count": 8,
   "metadata": {},
   "outputs": [
    {
     "name": "stdout",
     "output_type": "stream",
     "text": [
      "Train on 156 samples, validate on 39 samples\n",
      "Epoch 1/45\n",
      "156/156 - 0s - loss: 0.6527 - acc: 0.6603 - val_loss: 0.5513 - val_acc: 0.8205\n",
      "Epoch 2/45\n",
      "156/156 - 0s - loss: 0.5710 - acc: 0.7372 - val_loss: 0.4589 - val_acc: 0.8205\n",
      "Epoch 3/45\n",
      "156/156 - 0s - loss: 0.5048 - acc: 0.7949 - val_loss: 0.4001 - val_acc: 0.8462\n",
      "Epoch 4/45\n",
      "156/156 - 0s - loss: 0.4601 - acc: 0.8333 - val_loss: 0.3387 - val_acc: 0.8718\n",
      "Epoch 5/45\n",
      "156/156 - 0s - loss: 0.4193 - acc: 0.8397 - val_loss: 0.3082 - val_acc: 0.8462\n",
      "Epoch 6/45\n",
      "156/156 - 0s - loss: 0.3914 - acc: 0.8269 - val_loss: 0.2836 - val_acc: 0.8718\n",
      "Epoch 7/45\n",
      "156/156 - 0s - loss: 0.3551 - acc: 0.8462 - val_loss: 0.2649 - val_acc: 0.8718\n",
      "Epoch 8/45\n",
      "156/156 - 0s - loss: 0.3344 - acc: 0.8526 - val_loss: 0.2517 - val_acc: 0.8718\n",
      "Epoch 9/45\n",
      "156/156 - 0s - loss: 0.3146 - acc: 0.8590 - val_loss: 0.2382 - val_acc: 0.8718\n",
      "Epoch 10/45\n",
      "156/156 - 0s - loss: 0.2917 - acc: 0.8654 - val_loss: 0.2303 - val_acc: 0.8974\n",
      "Epoch 11/45\n",
      "156/156 - 0s - loss: 0.2790 - acc: 0.8718 - val_loss: 0.2219 - val_acc: 0.8718\n",
      "Epoch 12/45\n",
      "156/156 - 0s - loss: 0.2640 - acc: 0.8718 - val_loss: 0.2211 - val_acc: 0.9231\n",
      "Epoch 13/45\n",
      "156/156 - 0s - loss: 0.2610 - acc: 0.8910 - val_loss: 0.2048 - val_acc: 0.8974\n",
      "Epoch 14/45\n",
      "156/156 - 0s - loss: 0.2482 - acc: 0.8654 - val_loss: 0.2036 - val_acc: 0.9231\n",
      "Epoch 15/45\n",
      "156/156 - 0s - loss: 0.2320 - acc: 0.8974 - val_loss: 0.2008 - val_acc: 0.9231\n",
      "Epoch 16/45\n",
      "156/156 - 0s - loss: 0.2202 - acc: 0.9038 - val_loss: 0.1873 - val_acc: 0.9231\n",
      "Epoch 17/45\n",
      "156/156 - 0s - loss: 0.2160 - acc: 0.8782 - val_loss: 0.1842 - val_acc: 0.9231\n",
      "Epoch 18/45\n",
      "156/156 - 0s - loss: 0.2074 - acc: 0.9103 - val_loss: 0.1834 - val_acc: 0.9231\n",
      "Epoch 19/45\n",
      "156/156 - 0s - loss: 0.1879 - acc: 0.9103 - val_loss: 0.1635 - val_acc: 0.9231\n",
      "Epoch 20/45\n",
      "156/156 - 0s - loss: 0.1830 - acc: 0.9231 - val_loss: 0.1797 - val_acc: 0.9231\n",
      "Epoch 21/45\n",
      "156/156 - 0s - loss: 0.1638 - acc: 0.9231 - val_loss: 0.1388 - val_acc: 0.9487\n",
      "Epoch 22/45\n",
      "156/156 - 0s - loss: 0.1725 - acc: 0.9103 - val_loss: 0.1712 - val_acc: 0.9231\n",
      "Epoch 23/45\n",
      "156/156 - 0s - loss: 0.1710 - acc: 0.9167 - val_loss: 0.1276 - val_acc: 0.9487\n",
      "Epoch 24/45\n",
      "156/156 - 0s - loss: 0.1482 - acc: 0.9615 - val_loss: 0.1428 - val_acc: 0.9231\n",
      "Epoch 25/45\n",
      "156/156 - 0s - loss: 0.1372 - acc: 0.9487 - val_loss: 0.1159 - val_acc: 0.9744\n",
      "Epoch 26/45\n",
      "156/156 - 0s - loss: 0.1227 - acc: 0.9615 - val_loss: 0.1293 - val_acc: 0.9487\n",
      "Epoch 27/45\n",
      "156/156 - 0s - loss: 0.1210 - acc: 0.9487 - val_loss: 0.1277 - val_acc: 0.9487\n",
      "Epoch 28/45\n",
      "156/156 - 0s - loss: 0.1018 - acc: 0.9551 - val_loss: 0.1115 - val_acc: 0.9744\n",
      "Epoch 29/45\n",
      "156/156 - 0s - loss: 0.0956 - acc: 0.9679 - val_loss: 0.0864 - val_acc: 0.9744\n",
      "Epoch 30/45\n",
      "156/156 - 0s - loss: 0.0905 - acc: 0.9744 - val_loss: 0.1304 - val_acc: 0.9744\n",
      "Epoch 31/45\n",
      "156/156 - 0s - loss: 0.0899 - acc: 0.9551 - val_loss: 0.0992 - val_acc: 0.9744\n",
      "Epoch 32/45\n",
      "156/156 - 0s - loss: 0.0810 - acc: 0.9808 - val_loss: 0.1067 - val_acc: 0.9744\n",
      "Epoch 33/45\n",
      "156/156 - 0s - loss: 0.0673 - acc: 0.9808 - val_loss: 0.0907 - val_acc: 0.9744\n",
      "Epoch 34/45\n",
      "156/156 - 0s - loss: 0.0759 - acc: 0.9872 - val_loss: 0.1754 - val_acc: 0.9744\n",
      "Epoch 35/45\n",
      "156/156 - 0s - loss: 0.0821 - acc: 0.9679 - val_loss: 0.1014 - val_acc: 0.9744\n",
      "Epoch 36/45\n",
      "156/156 - 0s - loss: 0.0650 - acc: 0.9744 - val_loss: 0.1139 - val_acc: 0.9744\n",
      "Epoch 37/45\n",
      "156/156 - 0s - loss: 0.0601 - acc: 0.9808 - val_loss: 0.1219 - val_acc: 0.9744\n",
      "Epoch 38/45\n",
      "156/156 - 0s - loss: 0.0472 - acc: 0.9872 - val_loss: 0.1193 - val_acc: 0.9744\n",
      "Epoch 39/45\n",
      "156/156 - 0s - loss: 0.0380 - acc: 0.9936 - val_loss: 0.1189 - val_acc: 0.9744\n",
      "Epoch 40/45\n",
      "156/156 - 0s - loss: 0.0352 - acc: 0.9936 - val_loss: 0.1167 - val_acc: 0.9744\n",
      "Epoch 41/45\n",
      "156/156 - 0s - loss: 0.0354 - acc: 0.9872 - val_loss: 0.1343 - val_acc: 0.9744\n",
      "Epoch 42/45\n",
      "156/156 - 0s - loss: 0.0299 - acc: 0.9872 - val_loss: 0.1274 - val_acc: 0.9744\n",
      "Epoch 43/45\n",
      "156/156 - 0s - loss: 0.0271 - acc: 1.0000 - val_loss: 0.1373 - val_acc: 0.9744\n",
      "Epoch 44/45\n",
      "156/156 - 0s - loss: 0.0290 - acc: 0.9936 - val_loss: 0.1222 - val_acc: 0.9744\n",
      "Epoch 45/45\n",
      "156/156 - 0s - loss: 0.0272 - acc: 0.9936 - val_loss: 0.1430 - val_acc: 0.9744\n"
     ]
    }
   ],
   "source": [
    "history = model.fit(x_train, y_train,\n",
    "                    batch_size=32,\n",
    "                    epochs=45,\n",
    "                    verbose=2,\n",
    "                    validation_data=(x_test, y_test))"
   ]
  },
  {
   "cell_type": "code",
   "execution_count": 9,
   "metadata": {},
   "outputs": [
    {
     "name": "stdout",
     "output_type": "stream",
     "text": [
      "Test loss: 0.14296401540438333\n",
      "Test accuracy: 97.43589758872986\n"
     ]
    }
   ],
   "source": [
    "score = model.evaluate(x_test, y_test, verbose=0)\n",
    "print('Test loss:', score[0])\n",
    "print('Test accuracy:', score[1]*100)"
   ]
  },
  {
   "cell_type": "code",
   "execution_count": null,
   "metadata": {},
   "outputs": [],
   "source": []
  },
  {
   "cell_type": "code",
   "execution_count": null,
   "metadata": {},
   "outputs": [],
   "source": []
  }
 ],
 "metadata": {
  "kernelspec": {
   "display_name": "Python 3",
   "language": "python",
   "name": "python3"
  },
  "language_info": {
   "codemirror_mode": {
    "name": "ipython",
    "version": 3
   },
   "file_extension": ".py",
   "mimetype": "text/x-python",
   "name": "python",
   "nbconvert_exporter": "python",
   "pygments_lexer": "ipython3",
   "version": "3.7.6"
  }
 },
 "nbformat": 4,
 "nbformat_minor": 4
}
